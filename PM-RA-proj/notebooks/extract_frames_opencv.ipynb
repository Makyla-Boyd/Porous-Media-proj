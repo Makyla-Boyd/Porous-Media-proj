{
 "cells": [
  {
   "cell_type": "code",
   "execution_count": 1,
   "id": "58b54bd7-d1e7-4771-81db-7c04fde809eb",
   "metadata": {},
   "outputs": [],
   "source": [
    "from datetime import timedelta\n",
    "import cv2\n",
    "import numpy as np\n",
    "import os"
   ]
  },
  {
   "cell_type": "code",
   "execution_count": 2,
   "id": "f2457984-07d6-458d-b27d-1c1c9fa1a644",
   "metadata": {},
   "outputs": [
    {
     "data": {
      "text/plain": [
       "'/home/makylab/PM-RA-proj/notebooks'"
      ]
     },
     "execution_count": 2,
     "metadata": {},
     "output_type": "execute_result"
    }
   ],
   "source": [
    "os.getcwd()"
   ]
  },
  {
   "cell_type": "code",
   "execution_count": 3,
   "id": "6e3ddda8-df32-4969-b149-54254d74ec5d",
   "metadata": {},
   "outputs": [
    {
     "data": {
      "text/plain": [
       "True"
      ]
     },
     "execution_count": 3,
     "metadata": {},
     "output_type": "execute_result"
    }
   ],
   "source": [
    "os.path.exists('/home/makylab/PM-RA-proj/notebooks')"
   ]
  },
  {
   "cell_type": "code",
   "execution_count": 43,
   "id": "5417c54d-f88a-4cc8-b63c-4795a194ec74",
   "metadata": {},
   "outputs": [],
   "source": [
    "input_vid_1 = '/home/makylab/PM-RA-proj/normal-exp/IMG_4136.mov'"
   ]
  },
  {
   "cell_type": "code",
   "execution_count": 47,
   "id": "be2a2db8-bd45-4f9b-837e-6be64d26eba4",
   "metadata": {},
   "outputs": [
    {
     "data": {
      "text/plain": [
       "True"
      ]
     },
     "execution_count": 47,
     "metadata": {},
     "output_type": "execute_result"
    }
   ],
   "source": [
    "os.path.exists(input_vid_1)"
   ]
  },
  {
   "cell_type": "code",
   "execution_count": 44,
   "id": "b2822285-4bd8-4071-b904-9f3aeabccc02",
   "metadata": {},
   "outputs": [],
   "source": [
    "input_vid_2 = '/home/makylab/PM-RA-proj/hydrophobic-exp/IMG_4175.mov'"
   ]
  },
  {
   "cell_type": "code",
   "execution_count": 7,
   "id": "01f59b2d-4e7b-425a-a32b-54725e98bb1a",
   "metadata": {},
   "outputs": [
    {
     "data": {
      "text/plain": [
       "True"
      ]
     },
     "execution_count": 7,
     "metadata": {},
     "output_type": "execute_result"
    }
   ],
   "source": [
    "os.path.exists('/home/makylab/PM-RA-proj/hydrophobic-exp')"
   ]
  },
  {
   "cell_type": "code",
   "execution_count": 11,
   "id": "51525802-450d-44cf-a548-6f01bc6bffb6",
   "metadata": {},
   "outputs": [
    {
     "data": {
      "text/plain": [
       "True"
      ]
     },
     "execution_count": 11,
     "metadata": {},
     "output_type": "execute_result"
    }
   ],
   "source": [
    "os.path.exists('/home/makylab/PM-RA-proj/processed frames')"
   ]
  },
  {
   "cell_type": "code",
   "execution_count": 12,
   "id": "93d27f27-5659-46f4-9724-b4d378e6e650",
   "metadata": {},
   "outputs": [],
   "source": [
    "out_dir_1 = '/home/makylab/PM-RA-proj/processed frames/hydro-phil'\n",
    "out_dir_2 = '/home/makylab/PM-RA-proj/processed frames/hydro-pho'"
   ]
  },
  {
   "cell_type": "code",
   "execution_count": 48,
   "id": "f50a19a2-56c0-4848-8ce2-a9ccd8724826",
   "metadata": {},
   "outputs": [],
   "source": [
    "input_list = []\n",
    "input_list.append(input_vid_1)\n",
    "input_list.append(input_vid_2)"
   ]
  },
  {
   "cell_type": "code",
   "execution_count": 70,
   "id": "1f670d21-7e1c-4736-9793-4fa2643fba21",
   "metadata": {},
   "outputs": [],
   "source": [
    "output_list = []\n",
    "output_list.append(output_zip)\n",
    "output_list.append(output_zip_2)"
   ]
  },
  {
   "cell_type": "code",
   "execution_count": 69,
   "id": "67b95cf4-5de7-41b0-a012-6885416edfa6",
   "metadata": {},
   "outputs": [],
   "source": [
    "import zipfile\n",
    "\n",
    "output_zip = \"/mnt/chromeos/GoogleDrive/MyDrive/Research/norm-frames.zip\"\n",
    "output_zip_2 = \"/mnt/chromeos/GoogleDrive/MyDrive/Research/phobic-frames.zip\"\n",
    "\n",
    "\n",
    "frame_interval = 10           \n",
    "jpeg_quality = 80     "
   ]
  },
  {
   "cell_type": "code",
   "execution_count": 79,
   "id": "3f0bd850-fc36-463d-8ea9-48885fcec05d",
   "metadata": {},
   "outputs": [
    {
     "name": "stdout",
     "output_type": "stream",
     "text": [
      "✅ Done: 516 frames saved inside /mnt/chromeos/GoogleDrive/MyDrive/Research/norm-frames.zip\n",
      "✅ Done: 132 frames saved inside /mnt/chromeos/GoogleDrive/MyDrive/Research/phobic-frames.zip\n"
     ]
    }
   ],
   "source": [
    "for i in range(len(input_list)):\n",
    "    cap = cv2.VideoCapture(input_list[i])\n",
    "    output_zip = output_list[i]\n",
    "    frame_count = 0\n",
    "    with zipfile.ZipFile(output_zip, \"w\") as zipf:\n",
    "        while True:\n",
    "            ret, frame = cap.read()\n",
    "            if not ret:\n",
    "                break\n",
    "            if frame_count % frame_interval == 0:\n",
    "                fname = f\"frame{frame_count:04d}.jpg\"\n",
    "                # Save temporarily\n",
    "                cv2.imwrite(fname, frame, [cv2.IMWRITE_JPEG_QUALITY, jpeg_quality])\n",
    "                # Add to zip\n",
    "                zipf.write(fname)\n",
    "                # Remove local file\n",
    "                os.remove(fname)\n",
    "    \n",
    "            frame_count += 1\n",
    "\n",
    "    print(f\"✅ Done: {frame_count // frame_interval} frames saved inside {output_zip}\")"
   ]
  },
  {
   "cell_type": "code",
   "execution_count": 80,
   "id": "92b286f8-ce7e-4250-b73b-eaa94bab13f7",
   "metadata": {},
   "outputs": [
    {
     "name": "stdout",
     "output_type": "stream",
     "text": [
      "Extracted 1322 frames \n"
     ]
    }
   ],
   "source": [
    "cap.release()\n",
    "cv2.destroyAllWindows()\n",
    "print(f\"Extracted {frame_count} frames \")"
   ]
  }
 ],
 "metadata": {
  "kernelspec": {
   "display_name": "Python 3 (ipykernel)",
   "language": "python",
   "name": "python3"
  },
  "language_info": {
   "codemirror_mode": {
    "name": "ipython",
    "version": 3
   },
   "file_extension": ".py",
   "mimetype": "text/x-python",
   "name": "python",
   "nbconvert_exporter": "python",
   "pygments_lexer": "ipython3",
   "version": "3.11.2"
  }
 },
 "nbformat": 4,
 "nbformat_minor": 5
}
